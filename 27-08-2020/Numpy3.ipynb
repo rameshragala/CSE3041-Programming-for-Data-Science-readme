{
 "cells": [
  {
   "cell_type": "markdown",
   "metadata": {},
   "source": [
    "# Example - 1"
   ]
  },
  {
   "cell_type": "code",
   "execution_count": 80,
   "metadata": {
    "collapsed": true
   },
   "outputs": [],
   "source": [
    "import numpy as np"
   ]
  },
  {
   "cell_type": "code",
   "execution_count": 81,
   "metadata": {},
   "outputs": [
    {
     "name": "stdout",
     "output_type": "stream",
     "text": [
      "[   2.     3.     8.9  103.3   54.8]\n"
     ]
    }
   ],
   "source": [
    "list10 = [2, 3, 8.9, 103.3, 54.8]\n",
    "array1 = np.array(list10) # conveted to 1-D\n",
    "print(array1)"
   ]
  },
  {
   "cell_type": "code",
   "execution_count": 82,
   "metadata": {},
   "outputs": [
    {
     "name": "stdout",
     "output_type": "stream",
     "text": [
      "[   5.     6.    11.9  106.3   57.8]\n"
     ]
    }
   ],
   "source": [
    "array2 = array1 + 3\n",
    "print(array2)"
   ]
  },
  {
   "cell_type": "code",
   "execution_count": 16,
   "metadata": {},
   "outputs": [
    {
     "name": "stdout",
     "output_type": "stream",
     "text": [
      "[   4.     6.    17.8  206.6  109.6]\n"
     ]
    }
   ],
   "source": [
    "array3 = array1 * 2\n",
    "print(array3)"
   ]
  },
  {
   "cell_type": "code",
   "execution_count": 17,
   "metadata": {},
   "outputs": [
    {
     "name": "stdout",
     "output_type": "stream",
     "text": [
      "[   0.97    1.97    7.87  102.27   53.77]\n"
     ]
    }
   ],
   "source": [
    "array4 = array1 - 1.03\n",
    "print(array4)"
   ]
  },
  {
   "cell_type": "code",
   "execution_count": 19,
   "metadata": {},
   "outputs": [
    {
     "name": "stdout",
     "output_type": "stream",
     "text": [
      "[  4.00000000e+00   9.00000000e+00   7.92100000e+01   1.06708900e+04\n",
      "   3.00304000e+03]\n"
     ]
    }
   ],
   "source": [
    "array5 = array1 ** 2\n",
    "print(array5)"
   ]
  },
  {
   "cell_type": "code",
   "execution_count": 20,
   "metadata": {
    "collapsed": true
   },
   "outputs": [],
   "source": [
    "#same example with list"
   ]
  },
  {
   "cell_type": "code",
   "execution_count": 25,
   "metadata": {},
   "outputs": [
    {
     "name": "stdout",
     "output_type": "stream",
     "text": [
      "[5, 6, 11.9, 106.3, 57.8]\n"
     ]
    }
   ],
   "source": [
    "list11 = [2, 3, 8.9, 103.3, 54.8]\n",
    "result = []\n",
    "for val in list11:\n",
    "    result.append(val + 3)\n",
    "print(result)"
   ]
  },
  {
   "cell_type": "code",
   "execution_count": 26,
   "metadata": {
    "collapsed": true
   },
   "outputs": [],
   "source": [
    "# same using list comprehensions"
   ]
  },
  {
   "cell_type": "code",
   "execution_count": 27,
   "metadata": {},
   "outputs": [
    {
     "name": "stdout",
     "output_type": "stream",
     "text": [
      "[5, 6, 11.9, 106.3, 57.8]\n"
     ]
    }
   ],
   "source": [
    "result1 = [ val + 3 for val in list11]\n",
    "print(result1)"
   ]
  },
  {
   "cell_type": "code",
   "execution_count": 28,
   "metadata": {
    "collapsed": true
   },
   "outputs": [],
   "source": [
    "# time comparision"
   ]
  },
  {
   "cell_type": "code",
   "execution_count": 29,
   "metadata": {},
   "outputs": [
    {
     "name": "stdout",
     "output_type": "stream",
     "text": [
      "1.96 µs ± 158 ns per loop (mean ± std. dev. of 7 runs, 1000000 loops each)\n"
     ]
    }
   ],
   "source": [
    "v = np.random.randint(0, 100, 1000)\n",
    "\n",
    "%timeit v + 1\n"
   ]
  },
  {
   "cell_type": "markdown",
   "metadata": {},
   "source": [
    "#  Example - 2"
   ]
  },
  {
   "cell_type": "code",
   "execution_count": 30,
   "metadata": {},
   "outputs": [
    {
     "name": "stdout",
     "output_type": "stream",
     "text": [
      "[[11 12 13]\n",
      " [21 22 23]\n",
      " [31 32 33]]\n",
      "[[ 1.  1.  1.]\n",
      " [ 1.  1.  1.]\n",
      " [ 1.  1.  1.]]\n",
      "Adding to arrays: \n",
      "[[ 12.  13.  14.]\n",
      " [ 22.  23.  24.]\n",
      " [ 32.  33.  34.]]\n",
      "\n",
      "Multiplying two arrays: \n",
      "[[ 22.  24.  26.]\n",
      " [ 42.  44.  46.]\n",
      " [ 62.  64.  66.]]\n"
     ]
    }
   ],
   "source": [
    "import numpy as np\n",
    "\n",
    "A = np.array([ [11, 12, 13], [21, 22, 23], [31, 32, 33] ])\n",
    "B = np.ones((3,3))\n",
    "\n",
    "print(A)\n",
    "print(B)\n",
    "print(\"Adding to arrays: \")\n",
    "print(A + B)\n",
    "\n",
    "print(\"\\nMultiplying two arrays: \")\n",
    "#The elements are solely component-wise multiplied.\n",
    "print(A * (B + 1))"
   ]
  },
  {
   "cell_type": "code",
   "execution_count": 31,
   "metadata": {},
   "outputs": [
    {
     "data": {
      "text/plain": [
       "array([[ 36.,  36.,  36.],\n",
       "       [ 66.,  66.,  66.],\n",
       "       [ 96.,  96.,  96.]])"
      ]
     },
     "execution_count": 31,
     "metadata": {},
     "output_type": "execute_result"
    }
   ],
   "source": [
    "# Matrix multiplication\n",
    "np.dot(A,B)"
   ]
  },
  {
   "cell_type": "markdown",
   "metadata": {},
   "source": [
    "# Example - 3 "
   ]
  },
  {
   "cell_type": "code",
   "execution_count": 34,
   "metadata": {},
   "outputs": [
    {
     "name": "stdout",
     "output_type": "stream",
     "text": [
      "12\n",
      "1\n",
      "1\n",
      "12\n",
      "-14\n"
     ]
    }
   ],
   "source": [
    "# scalar and 1-D arrays in dot() function\n",
    "# scalar\n",
    "print(np.dot(3, 4))\n",
    "\n",
    "# 1 - D array\n",
    "A = np.array([3])\n",
    "B = np.array([4])\n",
    "print(A.ndim)\n",
    "print(B.ndim)\n",
    "print(np.dot(A, B))\n",
    "\n",
    "A1 = np.array([3, -2])\n",
    "B1 = np.array([-4, 1])\n",
    "print(np.dot(A1, B1))"
   ]
  },
  {
   "cell_type": "code",
   "execution_count": 45,
   "metadata": {},
   "outputs": [
    {
     "name": "stdout",
     "output_type": "stream",
     "text": [
      "The dimension of A2 2\n",
      "The dimension of B2 2\n",
      "The Rows and Columns of A2 are: (2, 3)\n",
      "The Rows and Columns of B2 are: (3, 4)\n",
      "True 3\n",
      "The dot product of A2 and B2 is:\n",
      " [[ 7  7 17  4]\n",
      " [ 9  9 19  0]]\n",
      "The dimension of K1 2\n",
      "The Rows and Columns of K1 are: (2, 4)\n"
     ]
    }
   ],
   "source": [
    "# 2 - D arrays in dot() function\n",
    "A2 = np.array([ [1, 2, 3], \n",
    "               [3, 2, 1] ])\n",
    "B2 = np.array([ [2, 3, 4, -2], \n",
    "               [1, -1, 2, 3],\n",
    "               [1, 2, 3, 0] ])\n",
    "print(\"The dimension of A2\", A2.ndim)\n",
    "print(\"The dimension of B2\",B2.ndim)\n",
    "print(\"The Rows and Columns of A2 are:\",A2.shape)\n",
    "print(\"The Rows and Columns of B2 are:\",B2.shape)\n",
    "\n",
    "# matrix multiplication condition checking\n",
    "print(A2.shape[-1] == B2.shape[-2], A2.shape[1]) \n",
    "\n",
    "#dot product\n",
    "K1 = np.dot(A2,B2)\n",
    "print(\"The dot product of A2 and B2 is:\\n\", K1)\n",
    "print(\"The dimension of K1:\", K1.ndim)\n",
    "print(\"The Rows and Columns of K1 are:\",K1.shape)"
   ]
  },
  {
   "cell_type": "markdown",
   "metadata": {},
   "source": [
    "# Example - 4"
   ]
  },
  {
   "cell_type": "code",
   "execution_count": 46,
   "metadata": {},
   "outputs": [
    {
     "name": "stdout",
     "output_type": "stream",
     "text": [
      "The dimension of A3 3\n",
      "The dimension of B3 3\n",
      "The Rows and Columns of A3 are: (3, 3, 3)\n",
      "The Rows and Columns of B3 are: (3, 3, 3)\n",
      "The dot product of A3 and B3 is:\n",
      " [[[[14 19 15]\n",
      "   [15 15  9]\n",
      "   [13  9 18]]\n",
      "\n",
      "  [[18 24 20]\n",
      "   [20 20 12]\n",
      "   [18 12 22]]\n",
      "\n",
      "  [[15 18 22]\n",
      "   [22 13 12]\n",
      "   [21  9 14]]]\n",
      "\n",
      "\n",
      " [[[16 21 19]\n",
      "   [19 16 11]\n",
      "   [17 10 19]]\n",
      "\n",
      "  [[25 32 32]\n",
      "   [32 23 18]\n",
      "   [29 15 28]]\n",
      "\n",
      "  [[13 18 12]\n",
      "   [12 18  8]\n",
      "   [11 10 17]]]\n",
      "\n",
      "\n",
      " [[[11 14 14]\n",
      "   [14 11  8]\n",
      "   [13  7 12]]\n",
      "\n",
      "  [[17 23 19]\n",
      "   [19 16 11]\n",
      "   [16 10 22]]\n",
      "\n",
      "  [[19 25 23]\n",
      "   [23 17 13]\n",
      "   [20 11 23]]]]\n",
      "The dimension of K2: 4\n",
      "The Rows and Columns of K2 are: (3, 3, 3, 3)\n",
      "\n",
      "The Result is:\n",
      "[[[[14 19 15]\n",
      "   [15 15  9]\n",
      "   [13  9 18]]\n",
      "\n",
      "  [[18 24 20]\n",
      "   [20 20 12]\n",
      "   [18 12 22]]\n",
      "\n",
      "  [[15 18 22]\n",
      "   [22 13 12]\n",
      "   [21  9 14]]]\n",
      "\n",
      "\n",
      " [[[16 21 19]\n",
      "   [19 16 11]\n",
      "   [17 10 19]]\n",
      "\n",
      "  [[25 32 32]\n",
      "   [32 23 18]\n",
      "   [29 15 28]]\n",
      "\n",
      "  [[13 18 12]\n",
      "   [12 18  8]\n",
      "   [11 10 17]]]\n",
      "\n",
      "\n",
      " [[[11 14 14]\n",
      "   [14 11  8]\n",
      "   [13  7 12]]\n",
      "\n",
      "  [[17 23 19]\n",
      "   [19 16 11]\n",
      "   [16 10 22]]\n",
      "\n",
      "  [[19 25 23]\n",
      "   [23 17 13]\n",
      "   [20 11 23]]]]\n"
     ]
    }
   ],
   "source": [
    "# dot production of 3-D case\n",
    "import numpy as np\n",
    "\n",
    "A3 = np.array( [[[3, 1, 2], [4, 2, 2], [2, 4, 1]],\n",
    "               [[3, 2, 2], [4, 4, 3], [4, 1, 1]],\n",
    "               [[2, 2, 1], [3, 1, 3], [3, 2, 3]]])\n",
    "\n",
    "B3 = np.array( [[[2, 3, 1], [2, 2, 4], [3, 4, 4]],\n",
    "               [[1, 4, 1], [4, 1, 2], [4, 1, 2]],\n",
    "               [[1, 2, 3], [4, 1, 1], [3, 1, 4]]])\n",
    "\n",
    "print(\"The dimension of A3\", A3.ndim)\n",
    "print(\"The dimension of B3\",B3.ndim)\n",
    "print(\"The Rows and Columns of A3 are:\",A3.shape)\n",
    "print(\"The Rows and Columns of B3 are:\",B3.shape)\n",
    "\n",
    "# dot product\n",
    "K2 = np.dot(A3, B3)\n",
    "print(\"The dot product of A3 and B3 is:\\n\", K2)\n",
    "print(\"The dimension of K2:\", K2.ndim)\n",
    "print(\"The Rows and Columns of K2 are:\",K2.shape)\n",
    "print(\"\\nThe Result is:\")\n",
    "print(K2)\n"
   ]
  },
  {
   "cell_type": "code",
   "execution_count": 47,
   "metadata": {},
   "outputs": [
    {
     "name": "stdout",
     "output_type": "stream",
     "text": [
      "X.shape:  (4, 2, 3)    X.ndim:  3\n",
      "Y.shape:  (2, 3, 5)    Y.ndim:  3\n",
      "R.shape:  (4, 2, 2, 5) R.ndim:  4\n",
      "\n",
      "The result array R:\n",
      "\n",
      "[[[[ 14  19   5   8   1]\n",
      "   [ 15  15  10  16   3]]\n",
      "\n",
      "  [[ 18  24   8  10   2]\n",
      "   [ 20  20  14  22   2]]]\n",
      "\n",
      "\n",
      " [[[  1   1  -1  -1  -2]\n",
      "   [  3  -3  -3   1  -2]]\n",
      "\n",
      "  [[ -6  -7  -1   0   3]\n",
      "   [-11   1   2  -8   5]]]\n",
      "\n",
      "\n",
      " [[[ 16  21   7   8   1]\n",
      "   [ 19  16  11  20   0]]\n",
      "\n",
      "  [[ 25  32  12  11   1]\n",
      "   [ 32  23  16  33  -4]]]\n",
      "\n",
      "\n",
      " [[[ 11  14   6   5   1]\n",
      "   [ 14  11   8  15  -2]]\n",
      "\n",
      "  [[ 17  23   5   9   0]\n",
      "   [ 19  16  10  19   3]]]]\n"
     ]
    }
   ],
   "source": [
    "import numpy as np\n",
    "X = np.array(\n",
    "    [[[3, 1, 2],\n",
    "      [4, 2, 2]],\n",
    "\n",
    "     [[-1, 0, 1],\n",
    "      [1, -1, -2]],\n",
    "     \n",
    "     [[3, 2, 2],\n",
    "      [4, 4, 3]],\n",
    "\n",
    "     [[2, 2, 1],\n",
    "      [3, 1, 3]]])\n",
    "\n",
    "Y = np.array(\n",
    "    [[[2, 3, 1, 2, 1],\n",
    "      [2, 2, 2, 0, 0],\n",
    "      [3, 4, 0, 1, -1]],\n",
    "\n",
    "     [[1, 4, 3, 2, 2],\n",
    "      [4, 1, 1, 4, -3],\n",
    "      [4, 1, 0, 3, 0]]])\n",
    "\n",
    "\n",
    "R = np.dot(X, Y)\n",
    "\n",
    "\n",
    "\n",
    "print(\"X.shape: \", X.shape, \"   X.ndim: \", X.ndim)\n",
    "print(\"Y.shape: \", Y.shape, \"   Y.ndim: \", Y.ndim)\n",
    "print(\"R.shape: \",     R.shape, \"R.ndim: \", R.ndim)\n",
    "\n",
    "\n",
    "print(\"\\nThe result array R:\\n\")\n",
    "print(R)"
   ]
  },
  {
   "cell_type": "code",
   "execution_count": 48,
   "metadata": {},
   "outputs": [
    {
     "name": "stdout",
     "output_type": "stream",
     "text": [
      "    sum(X[0, 0, :] * Y[0, :, 0] :  14\n",
      "    sum(X[0, 0, :] * Y[0, :, 1] :  19\n",
      "    sum(X[0, 0, :] * Y[0, :, 2] :  5\n",
      "    sum(X[0, 0, :] * Y[0, :, 3] :  8\n",
      "    sum(X[0, 0, :] * Y[0, :, 4] :  1\n",
      "    sum(X[0, 0, :] * Y[1, :, 0] :  15\n",
      "    sum(X[0, 0, :] * Y[1, :, 1] :  15\n",
      "    sum(X[0, 0, :] * Y[1, :, 2] :  10\n",
      "    sum(X[0, 0, :] * Y[1, :, 3] :  16\n",
      "    sum(X[0, 0, :] * Y[1, :, 4] :  3\n",
      "    sum(X[0, 1, :] * Y[0, :, 0] :  18\n",
      "    sum(X[0, 1, :] * Y[0, :, 1] :  24\n",
      "    sum(X[0, 1, :] * Y[0, :, 2] :  8\n",
      "    sum(X[0, 1, :] * Y[0, :, 3] :  10\n",
      "    sum(X[0, 1, :] * Y[0, :, 4] :  2\n",
      "    sum(X[0, 1, :] * Y[1, :, 0] :  20\n",
      "    sum(X[0, 1, :] * Y[1, :, 1] :  20\n",
      "    sum(X[0, 1, :] * Y[1, :, 2] :  14\n",
      "    sum(X[0, 1, :] * Y[1, :, 3] :  22\n",
      "    sum(X[0, 1, :] * Y[1, :, 4] :  2\n"
     ]
    }
   ],
   "source": [
    "i = 0\n",
    "for j in range(X.shape[1]):\n",
    "    for k in range(Y.shape[0]):\n",
    "        for m in range(Y.shape[2]):\n",
    "            fmt = \"    sum(X[{}, {}, :] * Y[{}, :, {}] :  {}\"\n",
    "            arguments = (i, j, k, m, sum(X[i, j, :] * Y[k, :, m]))\n",
    "            print(fmt.format(*arguments))"
   ]
  },
  {
   "cell_type": "code",
   "execution_count": 49,
   "metadata": {},
   "outputs": [
    {
     "name": "stdout",
     "output_type": "stream",
     "text": [
      "[[[14 19 15]\n",
      "  [15 15  9]\n",
      "  [13  9 18]]\n",
      "\n",
      " [[18 24 20]\n",
      "  [20 20 12]\n",
      "  [18 12 22]]\n",
      "\n",
      " [[15 18 22]\n",
      "  [22 13 12]\n",
      "  [21  9 14]]]\n"
     ]
    }
   ],
   "source": [
    "print(K2[0])"
   ]
  },
  {
   "cell_type": "markdown",
   "metadata": {},
   "source": [
    "# Example - 5"
   ]
  },
  {
   "cell_type": "code",
   "execution_count": 83,
   "metadata": {},
   "outputs": [
    {
     "name": "stdout",
     "output_type": "stream",
     "text": [
      "The dimension of A4 2\n",
      "The dimension of B4 2\n",
      "The Rows and Columns of A4 are: (3, 3)\n",
      "The Rows and Columns of B4 are: (3, 3)\n",
      "[[ 3  4  3]\n",
      " [ 2  4  6]\n",
      " [-3 -6 -9]]\n",
      "[[1 2 3]\n",
      " [2 2 2]\n",
      " [3 3 3]]\n",
      "[[ 3  2  1]\n",
      " [ 1  2  3]\n",
      " [-1 -2 -3]]\n"
     ]
    }
   ],
   "source": [
    "import numpy as np\n",
    "\n",
    "A4 = np.array([ [1, 2, 3], [2, 2, 2], [3, 3, 3] ])\n",
    "B4 = np.array([ [3, 2, 1], [1, 2, 3], [-1, -2, -3] ])\n",
    "\n",
    "print(\"The dimension of A4\", A4.ndim)\n",
    "print(\"The dimension of B4\",B4.ndim)\n",
    "print(\"The Rows and Columns of A4 are:\",A4.shape)\n",
    "print(\"The Rows and Columns of B4 are:\",B4.shape)\n",
    "K3 = A4 * B4\n",
    "print(K3)\n",
    "print(A4)\n",
    "print(B4)"
   ]
  },
  {
   "cell_type": "code",
   "execution_count": 84,
   "metadata": {},
   "outputs": [
    {
     "name": "stdout",
     "output_type": "stream",
     "text": [
      "[[ 2  0 -2]\n",
      " [ 6  4  2]\n",
      " [ 9  6  3]]\n",
      "[[ 2  0 -2]\n",
      " [ 6  4  2]\n",
      " [ 9  6  3]]\n"
     ]
    }
   ],
   "source": [
    "MA4 = np.mat(A4)\n",
    "MB4 = np.mat(B4)\n",
    "\n",
    "K4 = MA4 * MB4\n",
    "print(K4)\n",
    "\n",
    "K5 = np.dot(A4,B4)\n",
    "print(K5)\n",
    "\n"
   ]
  },
  {
   "cell_type": "markdown",
   "metadata": {},
   "source": [
    "# Example  6"
   ]
  },
  {
   "cell_type": "code",
   "execution_count": 52,
   "metadata": {},
   "outputs": [
    {
     "data": {
      "text/plain": [
       "array([[ True, False,  True],\n",
       "       [False,  True, False],\n",
       "       [ True,  True, False]], dtype=bool)"
      ]
     },
     "execution_count": 52,
     "metadata": {},
     "output_type": "execute_result"
    }
   ],
   "source": [
    "import numpy as np\n",
    "\n",
    "A5 = np.array([ [11, 12, 13], [21, 22, 23], [31, 32, 33] ])\n",
    "B5 = np.array([ [11, 102, 13], [201, 22, 203], [31, 32, 303] ])\n",
    "\n",
    "A5 == B5\n"
   ]
  },
  {
   "cell_type": "code",
   "execution_count": 53,
   "metadata": {},
   "outputs": [
    {
     "name": "stdout",
     "output_type": "stream",
     "text": [
      "False\n",
      "True\n"
     ]
    }
   ],
   "source": [
    "# complete array comparision\n",
    "print(np.array_equal(A5, B5))\n",
    "print(np.array_equal(A5, A5))"
   ]
  },
  {
   "cell_type": "markdown",
   "metadata": {},
   "source": [
    "# Example  7"
   ]
  },
  {
   "cell_type": "code",
   "execution_count": 54,
   "metadata": {},
   "outputs": [
    {
     "name": "stdout",
     "output_type": "stream",
     "text": [
      "[[ True  True]\n",
      " [ True False]]\n",
      "[[ True False]\n",
      " [False False]]\n"
     ]
    }
   ],
   "source": [
    "a = np.array([ [True, True], [False, False]])\n",
    "b = np.array([ [True, False], [True, False]])\n",
    "\n",
    "print(np.logical_or(a, b))\n",
    "print(np.logical_and(a, b))"
   ]
  },
  {
   "cell_type": "markdown",
   "metadata": {},
   "source": [
    "# Example - 8"
   ]
  },
  {
   "cell_type": "code",
   "execution_count": 86,
   "metadata": {},
   "outputs": [
    {
     "name": "stdout",
     "output_type": "stream",
     "text": [
      "(3, 3)\n",
      "(3,)\n",
      "2\n",
      "1\n",
      "Multiplication with broadcasting: \n",
      "[[11 24 39]\n",
      " [21 44 69]\n",
      " [31 64 99]]\n",
      "... and now addition with broadcasting: \n",
      "[[12 14 16]\n",
      " [22 24 26]\n",
      " [32 34 36]]\n"
     ]
    }
   ],
   "source": [
    "import numpy as np\n",
    "\n",
    "A = np.array([ [11, 12, 13], [21, 22, 23], [31, 32, 33] ])\n",
    "B = np.array([1, 2, 3])\n",
    "print(A.shape)\n",
    "print(B.shape)\n",
    "print(A.ndim)\n",
    "print(B.ndim)\n",
    "\n",
    "print(\"Multiplication with broadcasting: \")\n",
    "print(A * B)\n",
    "print(\"... and now addition with broadcasting: \")\n",
    "print(A + B)\n"
   ]
  },
  {
   "cell_type": "code",
   "execution_count": 56,
   "metadata": {},
   "outputs": [
    {
     "name": "stdout",
     "output_type": "stream",
     "text": [
      "[[1 2 3]\n",
      " [1 2 3]\n",
      " [1 2 3]]\n"
     ]
    }
   ],
   "source": [
    "B = np.array([[1, 2, 3],] * 3)\n",
    "print(B)"
   ]
  },
  {
   "cell_type": "code",
   "execution_count": 88,
   "metadata": {},
   "outputs": [
    {
     "data": {
      "text/plain": [
       "array([[1],\n",
       "       [2],\n",
       "       [3]])"
      ]
     },
     "execution_count": 88,
     "metadata": {},
     "output_type": "execute_result"
    }
   ],
   "source": [
    "# second example:\n",
    "B = np.array([1, 2, 3])\n",
    "B[:, np.newaxis]"
   ]
  },
  {
   "cell_type": "code",
   "execution_count": 58,
   "metadata": {},
   "outputs": [
    {
     "data": {
      "text/plain": [
       "array([[11, 12, 13],\n",
       "       [42, 44, 46],\n",
       "       [93, 96, 99]])"
      ]
     },
     "execution_count": 58,
     "metadata": {},
     "output_type": "execute_result"
    }
   ],
   "source": [
    "A * B[:, np.newaxis]"
   ]
  },
  {
   "cell_type": "code",
   "execution_count": 59,
   "metadata": {},
   "outputs": [
    {
     "data": {
      "text/plain": [
       "array([[1, 1, 1],\n",
       "       [2, 2, 2],\n",
       "       [3, 3, 3]])"
      ]
     },
     "execution_count": 59,
     "metadata": {},
     "output_type": "execute_result"
    }
   ],
   "source": [
    "np.array([[1, 2, 3],] * 3).transpose()\n"
   ]
  },
  {
   "cell_type": "code",
   "execution_count": 60,
   "metadata": {},
   "outputs": [
    {
     "data": {
      "text/plain": [
       "array([[10],\n",
       "       [20],\n",
       "       [30]])"
      ]
     },
     "execution_count": 60,
     "metadata": {},
     "output_type": "execute_result"
    }
   ],
   "source": [
    "# third example\n",
    "\n",
    "A = np.array([10, 20, 30])\n",
    "B = np.array([1, 2, 3])\n",
    "A[:, np.newaxis]"
   ]
  },
  {
   "cell_type": "code",
   "execution_count": 61,
   "metadata": {},
   "outputs": [
    {
     "data": {
      "text/plain": [
       "array([[10, 20, 30],\n",
       "       [20, 40, 60],\n",
       "       [30, 60, 90]])"
      ]
     },
     "execution_count": 61,
     "metadata": {},
     "output_type": "execute_result"
    }
   ],
   "source": [
    "A[:, np.newaxis] * B"
   ]
  },
  {
   "cell_type": "code",
   "execution_count": 62,
   "metadata": {},
   "outputs": [
    {
     "name": "stdout",
     "output_type": "stream",
     "text": [
      "Multiplication: \n",
      "[[11 24 39]\n",
      " [21 44 69]\n",
      " [31 64 99]]\n",
      "... and now addition again: \n",
      "[[12 14 16]\n",
      " [22 24 26]\n",
      " [32 34 36]]\n"
     ]
    }
   ],
   "source": [
    "# another way is : without broadcasting\n",
    "import numpy as np\n",
    "\n",
    "A = np.array([ [11, 12, 13], [21, 22, 23], [31, 32, 33] ])\n",
    "\n",
    "B = np.array([1, 2, 3])\n",
    "\n",
    "B = B[np.newaxis, :]\n",
    "B = np.concatenate((B, B, B))\n",
    "\n",
    "print(\"Multiplication: \")\n",
    "print(A * B)\n",
    "print(\"... and now addition again: \")\n",
    "print(A + B)\n"
   ]
  },
  {
   "cell_type": "code",
   "execution_count": 63,
   "metadata": {},
   "outputs": [
    {
     "name": "stdout",
     "output_type": "stream",
     "text": [
      "[[1 2 3]\n",
      " [1 2 3]\n",
      " [1 2 3]]\n",
      "Multiplication: \n",
      "[[11 24 39]\n",
      " [21 44 69]\n",
      " [31 64 99]]\n",
      "... and now addition again: \n",
      "[[12 14 16]\n",
      " [22 24 26]\n",
      " [32 34 36]]\n"
     ]
    }
   ],
   "source": [
    "import numpy as np\n",
    "\n",
    "A = np.array([ [11, 12, 13], [21, 22, 23], [31, 32, 33] ])\n",
    "\n",
    "B = np.tile(np.array([1, 2, 3]), (3, 1))\n",
    "\n",
    "print(B)\n",
    "\n",
    "print(\"Multiplication: \")\n",
    "print(A * B)\n",
    "print(\"... and now addition again: \")\n",
    "print(A + B)"
   ]
  },
  {
   "cell_type": "code",
   "execution_count": 64,
   "metadata": {},
   "outputs": [
    {
     "data": {
      "text/plain": [
       "array([[[ 9, 16, 49],\n",
       "        [ 5,  0,  1],\n",
       "        [ 2,  2, 15]],\n",
       "\n",
       "       [[ 3,  0, -7],\n",
       "        [ 8,  0, -4],\n",
       "        [ 5,  4,  3]],\n",
       "\n",
       "       [[ 6,  4, 21],\n",
       "        [ 1,  0, -4],\n",
       "        [ 5, -4, 12]]])"
      ]
     },
     "execution_count": 64,
     "metadata": {},
     "output_type": "execute_result"
    }
   ],
   "source": [
    "# 3-D broadcasting\n",
    "\n",
    "\n",
    "A = np.array([ [[3, 4, 7], [5, 0, -1] , [2, 1, 5]],\n",
    "      [[1, 0, -1], [8, 2, 4], [5, 2, 1]],\n",
    "      [[2, 1, 3], [1, 9, 4], [5, -2, 4]]])\n",
    "\n",
    "B = np.array([ [[3, 4, 7], [1, 0, -1], [1, 2, 3]] ])\n",
    "\n",
    "B * A\n"
   ]
  },
  {
   "cell_type": "code",
   "execution_count": 65,
   "metadata": {},
   "outputs": [
    {
     "name": "stdout",
     "output_type": "stream",
     "text": [
      "(1, 3)\n",
      "(3, 3)\n",
      "(3, 1, 3)\n",
      "[[[1 1 1]]\n",
      "\n",
      " [[2 2 2]]\n",
      "\n",
      " [[3 3 3]]]\n",
      "[[[ 3  4  7]\n",
      "  [ 5  0 -1]\n",
      "  [ 2  1  5]]\n",
      "\n",
      " [[ 2  0 -2]\n",
      "  [16  4  8]\n",
      "  [10  4  2]]\n",
      "\n",
      " [[ 6  3  9]\n",
      "  [ 3 27 12]\n",
      "  [15 -6 12]]]\n"
     ]
    }
   ],
   "source": [
    "\n",
    "\n",
    "B = np.array([1, 2, 3])\n",
    "\n",
    "B = B[np.newaxis, :]\n",
    "print(B.shape)\n",
    "B = np.concatenate((B, B, B)).transpose()\n",
    "print(B.shape)\n",
    "B = B[:, np.newaxis]\n",
    "print(B.shape)\n",
    "print(B)\n",
    "\n",
    "print(A * B)\n",
    "\n"
   ]
  },
  {
   "cell_type": "markdown",
   "metadata": {},
   "source": [
    "# Example - 9"
   ]
  },
  {
   "cell_type": "code",
   "execution_count": 69,
   "metadata": {},
   "outputs": [
    {
     "name": "stdout",
     "output_type": "stream",
     "text": [
      "A:\n",
      "[[[ 0  1]\n",
      "  [ 2  3]\n",
      "  [ 4  5]\n",
      "  [ 6  7]]\n",
      "\n",
      " [[ 8  9]\n",
      "  [10 11]\n",
      "  [12 13]\n",
      "  [14 15]]\n",
      "\n",
      " [[16 17]\n",
      "  [18 19]\n",
      "  [20 21]\n",
      "  [22 23]]]\n",
      "The dimension of A: 3\n",
      "The rows and columns of A are  (3, 4, 2)\n",
      "[ 0  1  2  3  4  5  6  7  8  9 10 11 12 13 14 15 16 17 18 19 20 21 22 23]\n",
      "Different orders in flatten:\n",
      "[ 0  1  2  3  4  5  6  7  8  9 10 11 12 13 14 15 16 17 18 19 20 21 22 23]\n",
      "[ 0  8 16  2 10 18  4 12 20  6 14 22  1  9 17  3 11 19  5 13 21  7 15 23]\n",
      "[ 0  1  2  3  4  5  6  7  8  9 10 11 12 13 14 15 16 17 18 19 20 21 22 23]\n"
     ]
    }
   ],
   "source": [
    "import numpy as np\n",
    "\n",
    "A = np.array([[[ 0,  1],\n",
    "               [ 2,  3],\n",
    "               [ 4,  5],\n",
    "               [ 6,  7]],\n",
    "              [[ 8,  9],\n",
    "               [10, 11],\n",
    "               [12, 13],\n",
    "               [14, 15]],\n",
    "              [[16, 17],\n",
    "               [18, 19],\n",
    "               [20, 21],\n",
    "               [22, 23]]])\n",
    "print(\"A:\")\n",
    "print(A)\n",
    "print(\"The dimension of A:\", A.ndim)\n",
    "print(\"The rows and columns of A are \", A.shape)\n",
    "\n",
    "Flattened_X = A.flatten()\n",
    "print(Flattened_X)\n",
    "\n",
    "print(\"Different orders in flatten:\")\n",
    "\n",
    "print(A.flatten(order=\"C\"))\n",
    "print(A.flatten(order=\"F\"))\n",
    "print(A.flatten(order=\"A\"))"
   ]
  },
  {
   "cell_type": "markdown",
   "metadata": {},
   "source": [
    "# Example - 10"
   ]
  },
  {
   "cell_type": "code",
   "execution_count": 70,
   "metadata": {},
   "outputs": [
    {
     "name": "stdout",
     "output_type": "stream",
     "text": [
      "[ 0  1  2  3  4  5  6  7  8  9 10 11 12 13 14 15 16 17 18 19 20 21 22 23]\n",
      "[ 0  1  2  3  4  5  6  7  8  9 10 11 12 13 14 15 16 17 18 19 20 21 22 23]\n",
      "[ 0  8 16  2 10 18  4 12 20  6 14 22  1  9 17  3 11 19  5 13 21  7 15 23]\n",
      "[ 0  1  2  3  4  5  6  7  8  9 10 11 12 13 14 15 16 17 18 19 20 21 22 23]\n",
      "[ 0  1  2  3  4  5  6  7  8  9 10 11 12 13 14 15 16 17 18 19 20 21 22 23]\n"
     ]
    }
   ],
   "source": [
    "print(A.ravel())\n",
    "\n",
    "print(A.ravel(order=\"A\"))\n",
    "\n",
    "print(A.ravel(order=\"F\"))\n",
    "\n",
    "print(A.ravel(order=\"A\"))\n",
    "\n",
    "print(A.ravel(order=\"K\"))"
   ]
  },
  {
   "cell_type": "markdown",
   "metadata": {},
   "source": [
    "#  Example - 11"
   ]
  },
  {
   "cell_type": "code",
   "execution_count": 90,
   "metadata": {},
   "outputs": [
    {
     "name": "stdout",
     "output_type": "stream",
     "text": [
      "[ 0  1  2  3  4  5  6  7  8  9 10 11 12 13 14 15 16 17 18 19 20 21 22 23]\n"
     ]
    },
    {
     "data": {
      "text/plain": [
       "array([[ 0,  1,  2,  3,  4,  5,  6,  7],\n",
       "       [ 8,  9, 10, 11, 12, 13, 14, 15],\n",
       "       [16, 17, 18, 19, 20, 21, 22, 23]])"
      ]
     },
     "execution_count": 90,
     "metadata": {},
     "output_type": "execute_result"
    }
   ],
   "source": [
    "X = np.array(range(24))\n",
    "print(X)\n",
    "Y = X.reshape((3,8))\n",
    "Y"
   ]
  },
  {
   "cell_type": "markdown",
   "metadata": {},
   "source": [
    "# Example - 12"
   ]
  },
  {
   "cell_type": "code",
   "execution_count": 72,
   "metadata": {},
   "outputs": [
    {
     "name": "stdout",
     "output_type": "stream",
     "text": [
      "[11 22 18  7  6  1  3  5]\n"
     ]
    }
   ],
   "source": [
    "x = np.array([11,22])\n",
    "y = np.array([18,7,6])\n",
    "z = np.array([1,3,5])\n",
    "c = np.concatenate((x,y,z))\n",
    "print(c)"
   ]
  },
  {
   "cell_type": "code",
   "execution_count": 73,
   "metadata": {},
   "outputs": [
    {
     "name": "stdout",
     "output_type": "stream",
     "text": [
      "[[[  0   1]\n",
      "  [  2   3]\n",
      "  [  4   5]\n",
      "  [  6   7]]\n",
      "\n",
      " [[  8   9]\n",
      "  [ 10  11]\n",
      "  [ 12  13]\n",
      "  [ 14  15]]\n",
      "\n",
      " [[ 16  17]\n",
      "  [ 18  19]\n",
      "  [ 20  21]\n",
      "  [ 22  23]]\n",
      "\n",
      " [[100 101]\n",
      "  [102 103]\n",
      "  [104 105]\n",
      "  [106 107]]\n",
      "\n",
      " [[108 109]\n",
      "  [110 111]\n",
      "  [112 113]\n",
      "  [114 115]]\n",
      "\n",
      " [[116 117]\n",
      "  [118 119]\n",
      "  [120 121]\n",
      "  [122 123]]]\n"
     ]
    }
   ],
   "source": [
    "#multidimensional arrays concatenations\n",
    "\n",
    "\n",
    "x = np.array(range(24))\n",
    "x = x.reshape((3,4,2))\n",
    "y = np.array(range(100,124))\n",
    "y = y.reshape((3,4,2))\n",
    "z = np.concatenate((x,y))\n",
    "print(z)\n",
    "\n"
   ]
  },
  {
   "cell_type": "code",
   "execution_count": 74,
   "metadata": {},
   "outputs": [
    {
     "name": "stdout",
     "output_type": "stream",
     "text": [
      "[[[  0   1]\n",
      "  [  2   3]\n",
      "  [  4   5]\n",
      "  [  6   7]\n",
      "  [100 101]\n",
      "  [102 103]\n",
      "  [104 105]\n",
      "  [106 107]]\n",
      "\n",
      " [[  8   9]\n",
      "  [ 10  11]\n",
      "  [ 12  13]\n",
      "  [ 14  15]\n",
      "  [108 109]\n",
      "  [110 111]\n",
      "  [112 113]\n",
      "  [114 115]]\n",
      "\n",
      " [[ 16  17]\n",
      "  [ 18  19]\n",
      "  [ 20  21]\n",
      "  [ 22  23]\n",
      "  [116 117]\n",
      "  [118 119]\n",
      "  [120 121]\n",
      "  [122 123]]]\n"
     ]
    }
   ],
   "source": [
    "z = np.concatenate((x,y),axis = 1)\n",
    "print(z)"
   ]
  },
  {
   "cell_type": "markdown",
   "metadata": {},
   "source": [
    "# Example - 13"
   ]
  },
  {
   "cell_type": "code",
   "execution_count": 91,
   "metadata": {},
   "outputs": [
    {
     "name": "stdout",
     "output_type": "stream",
     "text": [
      "1\n",
      "[[ 2]\n",
      " [ 5]\n",
      " [18]\n",
      " [14]\n",
      " [ 4]]\n",
      "2\n"
     ]
    }
   ],
   "source": [
    "x = np.array([2,5,18,14,4])\n",
    "print(x.ndim)\n",
    "y = x[:, np.newaxis]\n",
    "print(y)\n",
    "print(y.ndim)"
   ]
  },
  {
   "cell_type": "code",
   "execution_count": 92,
   "metadata": {},
   "outputs": [
    {
     "name": "stdout",
     "output_type": "stream",
     "text": [
      "[[3 4 5]\n",
      " [1 9 0]]\n",
      "[[3 1]\n",
      " [4 9]\n",
      " [5 0]]\n"
     ]
    },
    {
     "data": {
      "text/plain": [
       "(3,)"
      ]
     },
     "execution_count": 92,
     "metadata": {},
     "output_type": "execute_result"
    }
   ],
   "source": [
    "#Vector Stacking\n",
    "\n",
    "A = np.array([3, 4, 5])\n",
    "B = np.array([1,9,0])\n",
    "\n",
    "print(np.row_stack((A, B)))\n",
    "\n",
    "print(np.column_stack((A, B)))\n",
    "\n",
    "np.shape(A)"
   ]
  },
  {
   "cell_type": "code",
   "execution_count": 77,
   "metadata": {},
   "outputs": [
    {
     "data": {
      "text/plain": [
       "array([[3, 4, 5, 3, 4, 5, 3, 4, 5],\n",
       "       [1, 9, 0, 1, 9, 0, 1, 9, 0],\n",
       "       [4, 6, 8, 4, 6, 8, 4, 6, 8]])"
      ]
     },
     "execution_count": 77,
     "metadata": {},
     "output_type": "execute_result"
    }
   ],
   "source": [
    "A = np.array([[3, 4, 5],\n",
    "              [1, 9, 0],\n",
    "              [4, 6, 8]])\n",
    "np.column_stack((A, A, A))"
   ]
  },
  {
   "cell_type": "code",
   "execution_count": 78,
   "metadata": {},
   "outputs": [
    {
     "data": {
      "text/plain": [
       "array([[3, 3, 3],\n",
       "       [4, 4, 4],\n",
       "       [5, 5, 5]])"
      ]
     },
     "execution_count": 78,
     "metadata": {},
     "output_type": "execute_result"
    }
   ],
   "source": [
    "np.column_stack((A[0], A[0], A[0]))"
   ]
  },
  {
   "cell_type": "code",
   "execution_count": 79,
   "metadata": {},
   "outputs": [
    {
     "data": {
      "text/plain": [
       "array([[[3, 3, 3],\n",
       "        [4, 4, 4],\n",
       "        [5, 5, 5]],\n",
       "\n",
       "       [[1, 1, 1],\n",
       "        [9, 9, 9],\n",
       "        [0, 0, 0]],\n",
       "\n",
       "       [[4, 4, 4],\n",
       "        [6, 6, 6],\n",
       "        [8, 8, 8]]])"
      ]
     },
     "execution_count": 79,
     "metadata": {},
     "output_type": "execute_result"
    }
   ],
   "source": [
    "np.dstack((A, A, A))"
   ]
  },
  {
   "cell_type": "markdown",
   "metadata": {},
   "source": [
    "# Example - 14"
   ]
  },
  {
   "cell_type": "code",
   "execution_count": 93,
   "metadata": {},
   "outputs": [
    {
     "data": {
      "text/plain": [
       "array([[1, 2, 1, 2, 1, 2, 1, 2],\n",
       "       [3, 4, 3, 4, 3, 4, 3, 4],\n",
       "       [1, 2, 1, 2, 1, 2, 1, 2],\n",
       "       [3, 4, 3, 4, 3, 4, 3, 4],\n",
       "       [1, 2, 1, 2, 1, 2, 1, 2],\n",
       "       [3, 4, 3, 4, 3, 4, 3, 4]])"
      ]
     },
     "execution_count": 93,
     "metadata": {},
     "output_type": "execute_result"
    }
   ],
   "source": [
    "import numpy as np\n",
    "x = np.array([ [1, 2], [3, 4]])\n",
    "np.tile(x, (3,4)) # reps 3 --> row, 4 --> colun"
   ]
  },
  {
   "cell_type": "code",
   "execution_count": 98,
   "metadata": {},
   "outputs": [
    {
     "name": "stdout",
     "output_type": "stream",
     "text": [
      "[ 3.4  3.4  3.4  3.4  3.4]\n"
     ]
    }
   ],
   "source": [
    "\n",
    "import numpy as np\n",
    "\n",
    "x = np.array([ 3.4])\n",
    "\n",
    "y = np.tile(x, (5,)) \n",
    "\n",
    "print(y)"
   ]
  },
  {
   "cell_type": "code",
   "execution_count": 95,
   "metadata": {},
   "outputs": [
    {
     "name": "stdout",
     "output_type": "stream",
     "text": [
      "[[1 2 1 2]\n",
      " [3 4 3 4]]\n"
     ]
    }
   ],
   "source": [
    "\n",
    "import numpy as np\n",
    "x = np.array([[1, 2], [3, 4]])\n",
    "print(np.tile(x, 2))\n"
   ]
  },
  {
   "cell_type": "code",
   "execution_count": 96,
   "metadata": {},
   "outputs": [
    {
     "name": "stdout",
     "output_type": "stream",
     "text": [
      "[[1 2]\n",
      " [3 4]\n",
      " [1 2]\n",
      " [3 4]]\n"
     ]
    }
   ],
   "source": [
    "import numpy as np\n",
    "x = np.array([[1, 2], [3, 4]])\n",
    "print(np.tile(x, (2, 1)))\n",
    "\n"
   ]
  },
  {
   "cell_type": "code",
   "execution_count": 97,
   "metadata": {},
   "outputs": [
    {
     "name": "stdout",
     "output_type": "stream",
     "text": [
      "[[1 2 1 2]\n",
      " [3 4 3 4]\n",
      " [1 2 1 2]\n",
      " [3 4 3 4]]\n"
     ]
    }
   ],
   "source": [
    "\n",
    "import numpy as np\n",
    "x = np.array([[1, 2], [3, 4]])\n",
    "print(np.tile(x, (2, 2)))\n",
    "\n"
   ]
  },
  {
   "cell_type": "code",
   "execution_count": null,
   "metadata": {
    "collapsed": true
   },
   "outputs": [],
   "source": []
  }
 ],
 "metadata": {
  "kernelspec": {
   "display_name": "Python 3",
   "language": "python",
   "name": "python3"
  },
  "language_info": {
   "codemirror_mode": {
    "name": "ipython",
    "version": 3
   },
   "file_extension": ".py",
   "mimetype": "text/x-python",
   "name": "python",
   "nbconvert_exporter": "python",
   "pygments_lexer": "ipython3",
   "version": "3.6.3"
  }
 },
 "nbformat": 4,
 "nbformat_minor": 2
}
