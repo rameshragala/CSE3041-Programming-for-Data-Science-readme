{
 "cells": [
  {
   "cell_type": "markdown",
   "metadata": {},
   "source": [
    "# Example - 1"
   ]
  },
  {
   "cell_type": "code",
   "execution_count": 57,
   "metadata": {},
   "outputs": [
    {
     "name": "stdout",
     "output_type": "stream",
     "text": [
      "0.2808854774355338\n"
     ]
    }
   ],
   "source": [
    "# normal python\n",
    "import random as ran\n",
    "random_number = ran.random()\n",
    "print(random_number)"
   ]
  },
  {
   "cell_type": "code",
   "execution_count": 52,
   "metadata": {},
   "outputs": [
    {
     "name": "stdout",
     "output_type": "stream",
     "text": [
      "0.9955538523192247\n"
     ]
    }
   ],
   "source": [
    "from random import SystemRandom\n",
    "crypto = SystemRandom()\n",
    "print(crypto.random())"
   ]
  },
  {
   "cell_type": "code",
   "execution_count": 3,
   "metadata": {
    "collapsed": true
   },
   "outputs": [],
   "source": [
    "# Generate a list of Random Numbers\n",
    "# create a list of random numbers by repeatedly calling random()"
   ]
  },
  {
   "cell_type": "code",
   "execution_count": 56,
   "metadata": {},
   "outputs": [
    {
     "name": "stdout",
     "output_type": "stream",
     "text": [
      "[0.3495223929742234, 0.13949936187375755, 0.6113558770680998, 0.7769120429817453, 0.9510357858775678, 0.7229576845880394, 0.11070371713857952, 0.7406603807972387, 0.7222208041377557, 0.04354953361872127]\n"
     ]
    }
   ],
   "source": [
    "import random\n",
    "\n",
    "def random_list(n, secure=True):\n",
    "    random_floats = []\n",
    "    if secure:\n",
    "        crypto = random.SystemRandom()\n",
    "        random_float = crypto.random\n",
    "    else:\n",
    "        random_float = random.random\n",
    "    for _ in range(n):\n",
    "        random_floats.append(random_float())\n",
    "    return random_floats\n",
    "\n",
    "print(random_list(10, secure=False))"
   ]
  },
  {
   "cell_type": "code",
   "execution_count": 5,
   "metadata": {
    "collapsed": true
   },
   "outputs": [],
   "source": [
    "# fast and most effective to generate random data "
   ]
  },
  {
   "cell_type": "code",
   "execution_count": 53,
   "metadata": {},
   "outputs": [
    {
     "data": {
      "text/plain": [
       "array([ 0.02401076,  0.45127345,  0.58869302,  0.09514847,  0.79096481,\n",
       "        0.34144144,  0.76676186,  0.96769326,  0.77528171,  0.92675754])"
      ]
     },
     "execution_count": 53,
     "metadata": {},
     "output_type": "execute_result"
    }
   ],
   "source": [
    "import numpy as np \n",
    "np.random.random(10)"
   ]
  },
  {
   "cell_type": "markdown",
   "metadata": {},
   "source": [
    "#  Example - 2"
   ]
  },
  {
   "cell_type": "code",
   "execution_count": 63,
   "metadata": {},
   "outputs": [
    {
     "name": "stdout",
     "output_type": "stream",
     "text": [
      "Total sum of the random values is before Normalization:\n",
      "50.2319103461\n",
      "[ 0.00505528  0.00455459  0.00433508  0.01349439  0.00701705  0.01367641\n",
      "  0.00591724  0.01620918  0.00354694  0.01221728  0.01149196  0.00578469\n",
      "  0.01675198  0.01101294  0.01125078  0.0041009   0.00820796  0.01568505\n",
      "  0.0147227   0.0064045   0.00782504  0.00549529  0.00742812  0.01696527\n",
      "  0.0025249   0.01215854  0.00964244  0.01389564  0.00273053  0.01492766\n",
      "  0.00621334  0.01978114  0.01984056  0.00259657  0.01502935  0.0101216\n",
      "  0.00509855  0.01988456  0.00338847  0.0082034   0.01682459  0.00313932\n",
      "  0.01937414  0.01600573  0.01496238  0.01107837  0.00379727  0.0101935\n",
      "  0.00935125  0.00770225  0.01963567  0.01424372  0.00586987  0.01501494\n",
      "  0.01817589  0.00553936  0.01771898  0.00617359  0.0050673   0.00920121\n",
      "  0.01657042  0.0083511   0.00133284  0.00556033  0.0135125   0.0024834\n",
      "  0.00200747  0.00282246  0.00727859  0.01502034  0.00099276  0.01968394\n",
      "  0.00650771  0.00179859  0.00797585  0.00582148  0.01127389  0.00775671\n",
      "  0.00879358  0.01297739  0.00242512  0.01260455  0.00012372  0.0095655\n",
      "  0.00609231  0.00545041  0.01517982  0.01621989  0.01331459  0.01197356\n",
      "  0.00345974  0.01669771  0.01770487  0.00762371  0.01319534  0.01701534\n",
      "  0.01537901  0.00377632  0.01279972  0.01662019]\n",
      "Total sum of the normalized values is:\n",
      "1.0\n"
     ]
    }
   ],
   "source": [
    "import numpy as np\n",
    "#import random \n",
    "list_of_random_floats = np.random.random(100)\n",
    "#print(list_of_random_floats)\n",
    "print(\"Total sum of the random values is before Normalization:\")\n",
    "sum_of_values = list_of_random_floats.sum()\n",
    "print(sum_of_values)\n",
    "normalized_values = list_of_random_floats / sum_of_values\n",
    "print(normalized_values)\n",
    "print(\"Total sum of the normalized values is:\")\n",
    "print(normalized_values.sum())"
   ]
  },
  {
   "cell_type": "markdown",
   "metadata": {},
   "source": [
    "# Example - 3"
   ]
  },
  {
   "cell_type": "code",
   "execution_count": 2,
   "metadata": {},
   "outputs": [
    {
     "name": "stdout",
     "output_type": "stream",
     "text": [
      "Automatically generated password by Python: BL9VescS\n"
     ]
    }
   ],
   "source": [
    "from random import SystemRandom\n",
    "sr = SystemRandom() # create an instance of the SystemRandom class\n",
    "    \n",
    "\n",
    "def generate_password(length, valid_chars=None):\n",
    "    if valid_chars==None:\n",
    "        valid_chars = \"ABCDEFGHIJKLMNOPQRSTUVWXYZ\"\n",
    "        valid_chars += valid_chars.lower() + \"0123456789\"\n",
    "    \n",
    "    password = \"\"\n",
    "    counter = 0\n",
    "    while counter < length:\n",
    "        rnum = sr.randint(0, 128)\n",
    "        char = chr(rnum)\n",
    "        if char in valid_chars:\n",
    "            password += chr(rnum)\n",
    "            counter += 1\n",
    "            #print(password)\n",
    "    return password\n",
    "\n",
    "print(\"Automatically generated password by Python: \" + generate_password(8))"
   ]
  },
  {
   "cell_type": "markdown",
   "metadata": {},
   "source": [
    "# Example - 4"
   ]
  },
  {
   "cell_type": "code",
   "execution_count": 7,
   "metadata": {},
   "outputs": [
    {
     "name": "stdout",
     "output_type": "stream",
     "text": [
      "[[4 5 6 3]\n",
      " [5 4 6 3]\n",
      " [6 2 6 2]\n",
      " [1 2 2 3]\n",
      " [3 1 1 4]]\n"
     ]
    }
   ],
   "source": [
    "import numpy as np\n",
    "\n",
    "print(np.random.randint(1, 7))\n",
    "print(np.random.randint(1, 7, size=1))\n",
    "print(np.random.randint(1, 7, size=10))\n",
    "print(np.random.randint(1, 7, size=(10,))) # the same as the previous one\n",
    "print(np.random.randint(1, 7, size=(5, 4)))"
   ]
  },
  {
   "cell_type": "code",
   "execution_count": 8,
   "metadata": {},
   "outputs": [
    {
     "name": "stdout",
     "output_type": "stream",
     "text": [
      "6\n"
     ]
    }
   ],
   "source": [
    "# normal python to generate random number\n",
    "# Scenario virtual dice: # the rolling of the die\" an experiment with a result from the set of possible outcomes {1, 2, 3, 4, 5, 6}\n",
    "import random\n",
    "\n",
    "outcome = random.randint(1,6)  \n",
    "print(outcome)"
   ]
  },
  {
   "cell_type": "code",
   "execution_count": 9,
   "metadata": {},
   "outputs": [
    {
     "data": {
      "text/plain": [
       "[4, 6, 5, 5, 3, 6, 3, 3, 1, 1]"
      ]
     },
     "execution_count": 9,
     "metadata": {},
     "output_type": "execute_result"
    }
   ],
   "source": [
    "# Roll the virtual dice 10 times\n",
    "import random\n",
    "\n",
    "[ random.randint(1, 6) for _ in range(10) ]\n",
    "\n",
    "# this task can be done very easily using numpy\n"
   ]
  },
  {
   "cell_type": "code",
   "execution_count": 10,
   "metadata": {},
   "outputs": [
    {
     "name": "stdout",
     "output_type": "stream",
     "text": [
      "[6 1 6 3 6 4 5 3 1 5]\n"
     ]
    }
   ],
   "source": [
    "# numpy package to roll dice 10 times\n",
    "import numpy as np\n",
    "\n",
    "outcome = np.random.randint(1, 7, size=10)\n",
    "print(outcome)"
   ]
  },
  {
   "cell_type": "markdown",
   "metadata": {},
   "source": [
    "# Example - 5"
   ]
  },
  {
   "cell_type": "code",
   "execution_count": 11,
   "metadata": {},
   "outputs": [
    {
     "name": "stdout",
     "output_type": "stream",
     "text": [
      "Heidelberg\n"
     ]
    }
   ],
   "source": [
    "# normal python\n",
    "from random import choice\n",
    "\n",
    "possible_destinations = [\"Berlin\", \"Hamburg\", \"Munich\",\"Amsterdam\", \"London\", \"Paris\", \n",
    "                         \"Zurich\", \"Heidelberg\", \"Strasbourg\", \"Augsburg\", \"Milan\", \"Rome\"]\n",
    "\n",
    "print(choice(possible_destinations))"
   ]
  },
  {
   "cell_type": "code",
   "execution_count": 12,
   "metadata": {},
   "outputs": [
    {
     "name": "stdout",
     "output_type": "stream",
     "text": [
      "Zurich\n"
     ]
    }
   ],
   "source": [
    "# using numpy package, which is convient to select random choices.\n",
    "from numpy.random import choice\n",
    "\n",
    "print(choice(possible_destinations))"
   ]
  },
  {
   "cell_type": "code",
   "execution_count": 13,
   "metadata": {},
   "outputs": [
    {
     "name": "stdout",
     "output_type": "stream",
     "text": [
      "['London' 'Munich' 'Paris']\n",
      "[['Zurich' 'Hamburg' 'Rome' 'Milan']\n",
      " ['Augsburg' 'Augsburg' 'Hamburg' 'Hamburg']\n",
      " ['Heidelberg' 'London' 'Milan' 'Augsburg']]\n"
     ]
    }
   ],
   "source": [
    "# with number of chioces\n",
    "\n",
    "x1 = choice(possible_destinations, size=3)\n",
    "print(x1)\n",
    "x2 = choice(possible_destinations, size=(3, 4))\n",
    "print(x2)"
   ]
  },
  {
   "cell_type": "code",
   "execution_count": 14,
   "metadata": {},
   "outputs": [
    {
     "name": "stdout",
     "output_type": "stream",
     "text": [
      "[['Zurich' 'Milan' 'Berlin' 'Munich']\n",
      " ['Amsterdam' 'Strasbourg' 'Paris' 'London']\n",
      " ['Rome' 'Augsburg' 'Heidelberg' 'Hamburg']]\n"
     ]
    }
   ],
   "source": [
    "#You might have noticed that the city names can have multiple occurrences.\n",
    "#We can prevent this by setting the optional parameter \"replace\" to \"False\":\n",
    "\n",
    "print(choice(possible_destinations, size=(3, 4), replace=False))"
   ]
  },
  {
   "cell_type": "markdown",
   "metadata": {},
   "source": [
    "# Example - 6"
   ]
  },
  {
   "cell_type": "code",
   "execution_count": 15,
   "metadata": {},
   "outputs": [
    {
     "name": "stdout",
     "output_type": "stream",
     "text": [
      "[[ 0.85738873  0.75688816  0.85231962  0.15099952]\n",
      " [ 0.87157119  0.71824181  0.8224037   0.70592065]\n",
      " [ 0.8186682   0.79955086  0.74371912  0.47030649]]\n"
     ]
    }
   ],
   "source": [
    "import numpy as np\n",
    "\n",
    "x = np.random.random_sample((3, 4))\n",
    "print(x)"
   ]
  },
  {
   "cell_type": "code",
   "execution_count": 20,
   "metadata": {},
   "outputs": [
    {
     "name": "stdout",
     "output_type": "stream",
     "text": [
      "[ 0.37902523  0.82791236  0.2178715   0.59786735  0.05736826  0.43370229\n",
      "  0.53854409]\n",
      "[ 0.05939819  0.84776194  0.23146121  0.78637022  0.51396878  0.0928221\n",
      "  0.49240992]\n"
     ]
    }
   ],
   "source": [
    "# random_sample with an integer --> gets 1-D\n",
    "\n",
    "x = np.random.random_sample(7)\n",
    "print(x)\n",
    "\n",
    "y = np.random.random_sample((7,))\n",
    "print(y)"
   ]
  },
  {
   "cell_type": "code",
   "execution_count": 21,
   "metadata": {},
   "outputs": [
    {
     "name": "stdout",
     "output_type": "stream",
     "text": [
      "[[ 1.48421367  3.35148413  0.85477827  2.13213765]\n",
      " [ 3.4822453   2.746508    2.0872161   1.46740112]\n",
      " [-0.83526424 -1.77732046  0.5972274   0.57578647]]\n"
     ]
    }
   ],
   "source": [
    "#  generate arrays with values from an arbitrary interval [a, b)\n",
    "\n",
    "a = -3.4\n",
    "b = 5.9\n",
    "\n",
    "A = (b - a) * np.random.random_sample((3, 4)) + a\n",
    "print(A)\n"
   ]
  },
  {
   "cell_type": "code",
   "execution_count": 16,
   "metadata": {},
   "outputs": [
    {
     "name": "stdout",
     "output_type": "stream",
     "text": [
      "[3, 15, 33, 24, 6, 10]\n"
     ]
    }
   ],
   "source": [
    "# normal python to create samples from population\n",
    "import random\n",
    "\n",
    "print(random.sample(range(1, 50), 6))"
   ]
  },
  {
   "cell_type": "markdown",
   "metadata": {},
   "source": [
    "# Example - 7"
   ]
  },
  {
   "cell_type": "code",
   "execution_count": 18,
   "metadata": {},
   "outputs": [
    {
     "name": "stdout",
     "output_type": "stream",
     "text": [
      "[8 3]\n",
      "36\n",
      "36\n",
      "3.74165738677\n",
      "13.9283882772\n",
      "0.690776600808\n",
      "0.808233789011\n",
      "46.3083849702\n"
     ]
    }
   ],
   "source": [
    "x = np.array([3,2])\n",
    "y = np.array([5,1])\n",
    "z = x + y   #check the output\n",
    "print(z)\n",
    "x = np.array([1,2,3])\n",
    "y = np.array([-7,8,9])\n",
    "print(np.dot(x,y))  #check the output\n",
    "dot = np.dot(x,y)\n",
    "print(dot)\n",
    "x_modulus = np.sqrt((x*x).sum())\n",
    "print(x_modulus)\n",
    "y_modulus = np.sqrt((y*y).sum())\n",
    "print(y_modulus)\n",
    "cos_angle = dot / x_modulus / y_modulus  # cosine of angle between x and y\n",
    "print(cos_angle)\n",
    "angle = np.arccos(cos_angle)\n",
    "print(angle)\n",
    "print(angle * 360 / 2 / np.pi) # angle in degrees"
   ]
  },
  {
   "cell_type": "markdown",
   "metadata": {},
   "source": [
    "# Example - 8"
   ]
  },
  {
   "cell_type": "code",
   "execution_count": 19,
   "metadata": {},
   "outputs": [
    {
     "data": {
      "text/plain": [
       "array([[ 2,  6],\n",
       "       [15, -5]])"
      ]
     },
     "execution_count": 19,
     "metadata": {},
     "output_type": "execute_result"
    }
   ],
   "source": [
    "x = np.array( ((2,3), (3, 5)) )\n",
    "y = np.array( ((1,2), (5, -1)) )\n",
    "x * y"
   ]
  },
  {
   "cell_type": "code",
   "execution_count": 20,
   "metadata": {},
   "outputs": [
    {
     "data": {
      "text/plain": [
       "matrix([[17,  1],\n",
       "        [28,  1]])"
      ]
     },
     "execution_count": 20,
     "metadata": {},
     "output_type": "execute_result"
    }
   ],
   "source": [
    "x = np.matrix( ((2,3), (3, 5)) )\n",
    "y = np.matrix( ((1,2), (5, -1)) )\n",
    "x * y"
   ]
  },
  {
   "cell_type": "markdown",
   "metadata": {},
   "source": [
    "# Example - 9"
   ]
  },
  {
   "cell_type": "code",
   "execution_count": 21,
   "metadata": {},
   "outputs": [
    {
     "data": {
      "text/plain": [
       "matrix([[17,  1],\n",
       "        [28,  1]])"
      ]
     },
     "execution_count": 21,
     "metadata": {},
     "output_type": "execute_result"
    }
   ],
   "source": [
    "x = np.array( ((2,3), (3, 5)) )\n",
    "y = np.matrix( ((1,2), (5, -1)) )\n",
    "np.dot(x,y)"
   ]
  },
  {
   "cell_type": "code",
   "execution_count": 22,
   "metadata": {},
   "outputs": [
    {
     "data": {
      "text/plain": [
       "matrix([[17,  1],\n",
       "        [28,  1]])"
      ]
     },
     "execution_count": 22,
     "metadata": {},
     "output_type": "execute_result"
    }
   ],
   "source": [
    "# another way\n",
    "np.mat(x) * np.mat(y)"
   ]
  },
  {
   "cell_type": "markdown",
   "metadata": {},
   "source": [
    "# Example - 10"
   ]
  },
  {
   "cell_type": "code",
   "execution_count": 23,
   "metadata": {},
   "outputs": [
    {
     "data": {
      "text/plain": [
       "array([-1,  0,  0])"
      ]
     },
     "execution_count": 23,
     "metadata": {},
     "output_type": "execute_result"
    }
   ],
   "source": [
    "x = np.array([0,0,1])\n",
    "y = np.array([0,1,0])\n",
    "np.cross(x,y)"
   ]
  },
  {
   "cell_type": "code",
   "execution_count": 24,
   "metadata": {},
   "outputs": [
    {
     "data": {
      "text/plain": [
       "array([1, 0, 0])"
      ]
     },
     "execution_count": 24,
     "metadata": {},
     "output_type": "execute_result"
    }
   ],
   "source": [
    "np.cross(y,x)"
   ]
  },
  {
   "cell_type": "markdown",
   "metadata": {},
   "source": [
    "# Example - 11"
   ]
  },
  {
   "cell_type": "code",
   "execution_count": 25,
   "metadata": {
    "collapsed": true
   },
   "outputs": [],
   "source": [
    "import numpy as np\n",
    "\n",
    "x = np.array([[1, 2, 3], \n",
    "              [4, 5, 6],\n",
    "              [7, 8, 9]], np.int32)\n",
    "\n",
    "np.savetxt(\"test.txt\", x)"
   ]
  },
  {
   "cell_type": "code",
   "execution_count": 27,
   "metadata": {
    "collapsed": true
   },
   "outputs": [],
   "source": [
    "# other formats \n",
    "np.savetxt(\"test2.txt\", x, fmt=\"%2.3f\", delimiter=\",\")\n",
    "np.savetxt(\"test3.txt\", x, fmt=\"%04d\", delimiter=\" :-) \")"
   ]
  },
  {
   "cell_type": "markdown",
   "metadata": {},
   "source": [
    "# Example - 12"
   ]
  },
  {
   "cell_type": "code",
   "execution_count": 30,
   "metadata": {},
   "outputs": [
    {
     "name": "stdout",
     "output_type": "stream",
     "text": [
      "[[ 1.  2.  3.]\n",
      " [ 4.  5.  6.]\n",
      " [ 7.  8.  9.]]\n"
     ]
    }
   ],
   "source": [
    "y = np.loadtxt(\"test.txt\")\n",
    "print(y)"
   ]
  },
  {
   "cell_type": "code",
   "execution_count": 31,
   "metadata": {},
   "outputs": [
    {
     "name": "stdout",
     "output_type": "stream",
     "text": [
      "[[ 1.  2.  3.]\n",
      " [ 4.  5.  6.]\n",
      " [ 7.  8.  9.]]\n"
     ]
    }
   ],
   "source": [
    "y = np.loadtxt(\"test2.txt\", delimiter=\",\")\n",
    "print(y)"
   ]
  },
  {
   "cell_type": "code",
   "execution_count": 32,
   "metadata": {},
   "outputs": [
    {
     "name": "stdout",
     "output_type": "stream",
     "text": [
      "[[ 1.  2.  3.]\n",
      " [ 4.  5.  6.]\n",
      " [ 7.  8.  9.]]\n"
     ]
    }
   ],
   "source": [
    "y = np.loadtxt(\"test3.txt\", delimiter=\" :-) \")\n",
    "print(y)"
   ]
  },
  {
   "cell_type": "code",
   "execution_count": 34,
   "metadata": {},
   "outputs": [
    {
     "name": "stdout",
     "output_type": "stream",
     "text": [
      "[[ 1.  3.]\n",
      " [ 4.  6.]\n",
      " [ 7.  9.]]\n"
     ]
    }
   ],
   "source": [
    "# It's also possible to choose the columns by index:\n",
    "\n",
    "y = np.loadtxt(\"test3.txt\", delimiter=\" :-) \", usecols=(0,2))\n",
    "print(y)"
   ]
  },
  {
   "cell_type": "code",
   "execution_count": null,
   "metadata": {},
   "outputs": [],
   "source": []
  },
  {
   "cell_type": "markdown",
   "metadata": {},
   "source": [
    "# Example  -13"
   ]
  },
  {
   "cell_type": "code",
   "execution_count": 35,
   "metadata": {},
   "outputs": [
    {
     "name": "stdout",
     "output_type": "stream",
     "text": [
      "[((10, 0),  98.25)]\n"
     ]
    }
   ],
   "source": [
    "dt = np.dtype([('time', [('min', int), ('sec', int)]),\n",
    "               ('temp', float)])\n",
    "x = np.zeros((1,), dtype=dt)\n",
    "x['time']['min'] = 10\n",
    "x['temp'] = 98.25\n",
    "print(x)\n",
    "\n",
    "fh = open(\"test6.txt\", \"bw\")\n",
    "x.tofile(fh)"
   ]
  },
  {
   "cell_type": "markdown",
   "metadata": {},
   "source": [
    "# Example - 14"
   ]
  },
  {
   "cell_type": "code",
   "execution_count": 36,
   "metadata": {},
   "outputs": [
    {
     "data": {
      "text/plain": [
       "array([((10, 0),  98.25)],\n",
       "      dtype=[('time', [('min', '<i4'), ('sec', '<i4')]), ('temp', '<f8')])"
      ]
     },
     "execution_count": 36,
     "metadata": {},
     "output_type": "execute_result"
    }
   ],
   "source": [
    "fh = open(\"test6.txt\", \"rb\")\n",
    "\n",
    "np.fromfile(fh, dtype=dt)"
   ]
  },
  {
   "cell_type": "code",
   "execution_count": 39,
   "metadata": {},
   "outputs": [
    {
     "data": {
      "text/plain": [
       "164"
      ]
     },
     "execution_count": 39,
     "metadata": {},
     "output_type": "execute_result"
    }
   ],
   "source": [
    "4 * 41"
   ]
  },
  {
   "cell_type": "code",
   "execution_count": 40,
   "metadata": {},
   "outputs": [
    {
     "name": "stdout",
     "output_type": "stream",
     "text": [
      "[41 42 43 44 45 46 47 48 49]\n"
     ]
    }
   ],
   "source": [
    "import numpy as np\n",
    "import os\n",
    "\n",
    "# platform dependent: difference between Linux and Windows\n",
    "#data = np.arange(50, dtype=np.int)\n",
    "\n",
    "data = np.arange(50, dtype=np.int32)\n",
    "data.tofile(\"test7.txt\")\n",
    "\n",
    "fh = open(\"test7.txt\", \"rb\")\n",
    "# 4 * 32 = 128\n",
    "fh.seek(128, os.SEEK_SET)\n",
    "\n",
    "x = np.fromfile(fh, dtype=np.int32)\n",
    "print(x)"
   ]
  },
  {
   "cell_type": "markdown",
   "metadata": {},
   "source": [
    "# Example - 15"
   ]
  },
  {
   "cell_type": "code",
   "execution_count": 41,
   "metadata": {},
   "outputs": [
    {
     "name": "stdout",
     "output_type": "stream",
     "text": [
      "[41 42 43 44 45 46 47 48 49]\n"
     ]
    },
    {
     "data": {
      "text/plain": [
       "array([0, 1, 2, 3, 4, 5, 6, 7, 8, 9])"
      ]
     },
     "execution_count": 41,
     "metadata": {},
     "output_type": "execute_result"
    }
   ],
   "source": [
    "import numpy as np\n",
    "\n",
    "print(x)\n",
    "\n",
    "from tempfile import TemporaryFile\n",
    "\n",
    "outfile = TemporaryFile()\n",
    "\n",
    "x = np.arange(10)\n",
    "np.save(outfile, x)\n",
    "\n",
    "outfile.seek(0) # Only needed here to simulate closing & reopening file\n",
    "np.load(outfile)"
   ]
  },
  {
   "cell_type": "code",
   "execution_count": null,
   "metadata": {
    "collapsed": true
   },
   "outputs": [],
   "source": []
  }
 ],
 "metadata": {
  "kernelspec": {
   "display_name": "Python 3",
   "language": "python",
   "name": "python3"
  },
  "language_info": {
   "codemirror_mode": {
    "name": "ipython",
    "version": 3
   },
   "file_extension": ".py",
   "mimetype": "text/x-python",
   "name": "python",
   "nbconvert_exporter": "python",
   "pygments_lexer": "ipython3",
   "version": "3.6.3"
  }
 },
 "nbformat": 4,
 "nbformat_minor": 2
}
